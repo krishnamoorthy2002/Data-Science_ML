{
  "nbformat": 4,
  "nbformat_minor": 0,
  "metadata": {
    "colab": {
      "provenance": []
    },
    "kernelspec": {
      "name": "python3",
      "display_name": "Python 3"
    },
    "language_info": {
      "name": "python"
    }
  },
  "cells": [
    {
      "cell_type": "markdown",
      "source": [
        "SOLVING QUADRATIC EQUATION : s=3x+2y+c"
      ],
      "metadata": {
        "id": "dNSZ1TTS9Kxz"
      }
    },
    {
      "cell_type": "code",
      "source": [
        "x=int(input(\"x:\"))\n",
        "y=int(input(\"y:\"))\n",
        "c=int(input(\"c:\"))\n",
        "s=3*x**2+2*y+c\n",
        "print(\"s=\",s)"
      ],
      "metadata": {
        "colab": {
          "base_uri": "https://localhost:8080/"
        },
        "id": "DdlajIvV6KM1",
        "outputId": "9e21522e-b62b-4746-fc2e-fa99df6d3fc0"
      },
      "execution_count": null,
      "outputs": [
        {
          "output_type": "stream",
          "name": "stdout",
          "text": [
            "x:2\n",
            "y:6\n",
            "c:4\n",
            "s= 28\n"
          ]
        }
      ]
    },
    {
      "cell_type": "markdown",
      "source": [
        "TO PRINT EB BILL OF A CUSTOMER\n"
      ],
      "metadata": {
        "id": "9446hhIj97D_"
      }
    },
    {
      "cell_type": "code",
      "source": [
        "a=str(input(\"EB BILL Customer name : \"))\n",
        "b=str(input(\"EB Id : \"))\n",
        "n=float(input(\"NO.of Units used : \"))\n",
        "meter_charge = 100\n",
        "charge_per_unit = 5\n",
        "total_eb_bill= n*charge_per_unit+meter_charge\n",
        "print(\"TOTAL EB BILL = \",total_eb_bill)"
      ],
      "metadata": {
        "id": "OarPegl394Oo",
        "colab": {
          "base_uri": "https://localhost:8080/"
        },
        "outputId": "c3fca8dd-9528-4ada-8d0a-bea9595f3529"
      },
      "execution_count": null,
      "outputs": [
        {
          "output_type": "stream",
          "name": "stdout",
          "text": [
            "EB BILL Customer name : DILEEP\n",
            "EB Id : 1002384\n",
            "NO.of Units used : 472\n",
            "TOTAL EB BILL =  2460.0\n"
          ]
        }
      ]
    },
    {
      "cell_type": "markdown",
      "source": [
        "TO GENERATE HOTEL BILL"
      ],
      "metadata": {
        "id": "0SZIApGBDY_P"
      }
    },
    {
      "cell_type": "code",
      "source": [
        "print(\"                       WELCOME HOTEL                 \")\n",
        "p=str(input(\"CUSTOMER PH.NO : \"))\n",
        "d=int(input(\"Dosa QTY : \"))\n",
        "id=int(input(\"Idly QTY : \"))\n",
        "po=int(input(\"Poori QTY : \"))\n",
        "total_bill=d*20+id*10+po*15\n",
        "if total_bill>250:\n",
        "  print(\"tips\")\n",
        "else:\n",
        "  print(\"no tips\")\n"
      ],
      "metadata": {
        "colab": {
          "base_uri": "https://localhost:8080/"
        },
        "id": "XFFtxYLF-Wh2",
        "outputId": "472e7646-ea9c-4151-b748-1aea88e346a1"
      },
      "execution_count": null,
      "outputs": [
        {
          "output_type": "stream",
          "name": "stdout",
          "text": [
            "                       WELCOME HOTEL                 \n",
            "CUSTOMER PH.NO : 77388474\n",
            "Dosa QTY : 67\n",
            "Idly QTY : 92\n",
            "Poori QTY : 66\n",
            "tips\n"
          ]
        }
      ]
    },
    {
      "cell_type": "code",
      "source": [
        "i=1\n",
        "num=int(input(\"value\"))\n",
        "while i<=20:\n",
        "  print(num,\"*\",i,\"=\",num*i)\n",
        "  i=i+1"
      ],
      "metadata": {
        "id": "VMVTjaKLD41p",
        "colab": {
          "base_uri": "https://localhost:8080/"
        },
        "outputId": "7e419737-5f8f-49bb-91c5-0ef265b93090"
      },
      "execution_count": 1,
      "outputs": [
        {
          "output_type": "stream",
          "name": "stdout",
          "text": [
            "value 9\n",
            "9 * 1 = 9\n",
            "9 * 2 = 18\n",
            "9 * 3 = 27\n",
            "9 * 4 = 36\n",
            "9 * 5 = 45\n",
            "9 * 6 = 54\n",
            "9 * 7 = 63\n",
            "9 * 8 = 72\n",
            "9 * 9 = 81\n",
            "9 * 10 = 90\n",
            "9 * 11 = 99\n",
            "9 * 12 = 108\n",
            "9 * 13 = 117\n",
            "9 * 14 = 126\n",
            "9 * 15 = 135\n",
            "9 * 16 = 144\n",
            "9 * 17 = 153\n",
            "9 * 18 = 162\n",
            "9 * 19 = 171\n",
            "9 * 20 = 180\n"
          ]
        }
      ]
    },
    {
      "cell_type": "code",
      "source": [],
      "metadata": {
        "id": "bPp7zrZeNGrL"
      },
      "execution_count": null,
      "outputs": []
    },
    {
      "cell_type": "code",
      "execution_count": null,
      "metadata": {
        "colab": {
          "base_uri": "https://localhost:8080/"
        },
        "id": "QZSmsevV9MfI",
        "outputId": "a6db4be9-326c-4f42-8a9a-68cceeafaad2"
      },
      "outputs": [
        {
          "output_type": "stream",
          "name": "stdout",
          "text": [
            "Km :  3.05\n",
            "1.8940499999999998 miles\n"
          ]
        }
      ],
      "source": [
        "k=float(input(\"Km : \"))\n",
        "m=0.621*k\n",
        "print(m,\"miles\")"
      ]
    },
    {
      "cell_type": "code",
      "source": [
        "p=int(input(\"Principal : \"))\n",
        "r=float(input(\"rate of interest : \"))\n",
        "t=float(input(\"time period : \"))\n",
        "si=p*r*t/100\n",
        "print(\"simple interest : \",si)"
      ],
      "metadata": {
        "colab": {
          "base_uri": "https://localhost:8080/"
        },
        "id": "Y28j7M_C9lCC",
        "outputId": "f33ab507-808a-4d33-a39e-2fc5bf2615c0"
      },
      "execution_count": null,
      "outputs": [
        {
          "output_type": "stream",
          "name": "stdout",
          "text": [
            "Principal :  4000\n",
            "rate of interest : 3.45\n",
            "time period : 2.8\n",
            "simple interest :  386.4\n"
          ]
        }
      ]
    },
    {
      "cell_type": "code",
      "source": [
        "num=int(input(\"n : \"))\n",
        "for i in range (1,11):\n",
        "  print(num,\"*\",i,\"=\",num*i)"
      ],
      "metadata": {
        "colab": {
          "base_uri": "https://localhost:8080/"
        },
        "id": "hmZ9yMHe-oCT",
        "outputId": "e8771b46-2924-4c2e-c4e6-557fdc628746"
      },
      "execution_count": null,
      "outputs": [
        {
          "output_type": "stream",
          "name": "stdout",
          "text": [
            "n :  5\n",
            "5 * 1 = 5\n",
            "5 * 2 = 10\n",
            "5 * 3 = 15\n",
            "5 * 4 = 20\n",
            "5 * 5 = 25\n",
            "5 * 6 = 30\n",
            "5 * 7 = 35\n",
            "5 * 8 = 40\n",
            "5 * 9 = 45\n",
            "5 * 10 = 50\n"
          ]
        }
      ]
    },
    {
      "cell_type": "code",
      "source": [
        "num=int(input(\"enter the value : \"))\n",
        "sum=0\n",
        "temp=num\n",
        "while(temp>0):\n",
        "  d=temp%10\n",
        "  sum+=d*d*d\n",
        "  temp=temp//10\n",
        "if sum==num :\n",
        "  print(sum,\"Armstrong no.\",)\n",
        "else:\n",
        "  print(sum,\"Not Armstrong no.\")"
      ],
      "metadata": {
        "colab": {
          "base_uri": "https://localhost:8080/"
        },
        "id": "c-IytCwG_grD",
        "outputId": "12195111-2494-4445-8f45-0fc7c52b21f6"
      },
      "execution_count": null,
      "outputs": [
        {
          "output_type": "stream",
          "name": "stdout",
          "text": [
            "enter the value : 370\n",
            "370 Armstrong no.\n"
          ]
        }
      ]
    },
    {
      "cell_type": "code",
      "source": [
        "a=int(input(\"a : \"))\n",
        "if(a>0):\n",
        "  print(\"Positive\")\n",
        "else:\n",
        "  print(\"Negative\")"
      ],
      "metadata": {
        "colab": {
          "base_uri": "https://localhost:8080/"
        },
        "id": "PFtyVQk_FO7n",
        "outputId": "5132f534-34cf-4c04-e165-e2835c134c9a"
      },
      "execution_count": null,
      "outputs": [
        {
          "output_type": "stream",
          "name": "stdout",
          "text": [
            "a : -1\n",
            "Negative\n"
          ]
        }
      ]
    },
    {
      "cell_type": "code",
      "source": [
        "l=int(input(\"Leap Year : \"))\n",
        "if(l%4==0 and l%100!=0 or l%400==0):\n",
        "  print(\"Leap Year\")\n",
        "else:\n",
        "  print(\"Not a Leap Year\")"
      ],
      "metadata": {
        "colab": {
          "base_uri": "https://localhost:8080/"
        },
        "id": "Clg1rbmCFlWP",
        "outputId": "6aa16702-cbec-4513-98b5-541a1aa79f19"
      },
      "execution_count": null,
      "outputs": [
        {
          "output_type": "stream",
          "name": "stdout",
          "text": [
            "Leap Year : 2007\n",
            "Not a Leap Year\n"
          ]
        }
      ]
    },
    {
      "cell_type": "code",
      "source": [
        "num=int(input(\"Factorial of : \"))\n",
        "f=1\n",
        "for i in range(1,num+1):\n",
        "  f=f*i\n",
        "print(\"Factorial of\",num,\"is\",f)\n"
      ],
      "metadata": {
        "id": "7004yhrPGUJr",
        "colab": {
          "base_uri": "https://localhost:8080/"
        },
        "outputId": "ef0e8c1f-8e10-4651-b44e-2b2edc2fd54f"
      },
      "execution_count": null,
      "outputs": [
        {
          "output_type": "stream",
          "name": "stdout",
          "text": [
            "Factorial of : 7\n",
            "Factorial of 7 is 5040\n"
          ]
        }
      ]
    },
    {
      "cell_type": "code",
      "source": [
        "p=int(input(\"enter a value : \"))\n",
        "r=0\n",
        "temp=p\n",
        "while(p>0):\n",
        "  d=p%10\n",
        "  r=r*10+d\n",
        "  p=p//10\n",
        "if temp==r :\n",
        "  print(\"It is a palindrome\")\n",
        "else:\n",
        "  print(\"It is not a palindrome\")"
      ],
      "metadata": {
        "colab": {
          "base_uri": "https://localhost:8080/"
        },
        "id": "w2VU04b6SXVV",
        "outputId": "2885ff12-7d00-4521-bfd1-42087f476c0c"
      },
      "execution_count": null,
      "outputs": [
        {
          "output_type": "stream",
          "name": "stdout",
          "text": [
            "enter a value : 42424\n",
            "It is a palindrome\n"
          ]
        }
      ]
    },
    {
      "cell_type": "code",
      "source": [
        "s=str(input(\" enter the string : \"))\n",
        "st=s[::-1]  #string slicing and comparing\n",
        "if(s==st):\n",
        "  print(st,\"is panlindrome\")\n",
        "else:\n",
        "  print(st,\"is not palindrome\")"
      ],
      "metadata": {
        "colab": {
          "base_uri": "https://localhost:8080/"
        },
        "id": "zBAN6jTGV7UP",
        "outputId": "6e5cba95-0ec8-46c2-94d7-cb767c0d49b1"
      },
      "execution_count": null,
      "outputs": [
        {
          "output_type": "stream",
          "name": "stdout",
          "text": [
            " enter the string : mom\n",
            "mom is panlindrome\n"
          ]
        }
      ]
    },
    {
      "cell_type": "markdown",
      "source": [
        "**Pattern Printing**"
      ],
      "metadata": {
        "id": "GCvCG_KEWCWo"
      }
    },
    {
      "cell_type": "code",
      "execution_count": null,
      "metadata": {
        "colab": {
          "base_uri": "https://localhost:8080/"
        },
        "id": "yLl6OuZZTUiU",
        "outputId": "a28c3062-3b73-414a-98e2-eaa77e4285c8"
      },
      "outputs": [
        {
          "output_type": "stream",
          "name": "stdout",
          "text": [
            "1  \n",
            "2 2  \n",
            "3 3 3  \n",
            "4 4 4 4  \n",
            "5 5 5 5 5  \n"
          ]
        }
      ],
      "source": [
        "for i in range(1,6):\n",
        "  for j in range(i):\n",
        "    print(i,end=' ')\n",
        "  print(' ')"
      ]
    },
    {
      "cell_type": "code",
      "source": [
        "for i in range(1,6):\n",
        "    n = 1\n",
        "    for j in range(6,0,-1):\n",
        "        if j > i:\n",
        "            print(\"\",end='')\n",
        "        else:\n",
        "            print(n, end=' ')\n",
        "            n += 1\n",
        "    print(\" \")\n"
      ],
      "metadata": {
        "colab": {
          "base_uri": "https://localhost:8080/"
        },
        "id": "rdkvIAAwTxvc",
        "outputId": "abc4e2df-8d49-4c81-9211-344552160ac6"
      },
      "execution_count": null,
      "outputs": [
        {
          "output_type": "stream",
          "name": "stdout",
          "text": [
            "1  \n",
            "1 2  \n",
            "1 2 3  \n",
            "1 2 3 4  \n",
            "1 2 3 4 5  \n"
          ]
        }
      ]
    },
    {
      "cell_type": "code",
      "source": [
        "for i in range(1,6):\n",
        "  for j in range(i):\n",
        "    print(\"*\", end=\" \")\n",
        "  print('  ')"
      ],
      "metadata": {
        "colab": {
          "base_uri": "https://localhost:8080/"
        },
        "id": "H4BXPsr9TdQB",
        "outputId": "a6e2a372-41a1-4958-ab67-ad918abc5c1f"
      },
      "execution_count": null,
      "outputs": [
        {
          "output_type": "stream",
          "name": "stdout",
          "text": [
            "*   \n",
            "* *   \n",
            "* * *   \n",
            "* * * *   \n",
            "* * * * *   \n"
          ]
        }
      ]
    },
    {
      "cell_type": "code",
      "source": [
        "for i in range(1,6):\n",
        "    n = 1\n",
        "    for j in range(6,0, -1):\n",
        "        if j > i:\n",
        "            print(\"\",end=' ')\n",
        "        else:\n",
        "            print(\"*\", end=' ')\n",
        "            n += 1\n",
        "    print(\" \")\n"
      ],
      "metadata": {
        "colab": {
          "base_uri": "https://localhost:8080/"
        },
        "id": "SwUIoZXFUHWv",
        "outputId": "b03d2681-32f2-4b39-9f62-faa7ff524af0"
      },
      "execution_count": null,
      "outputs": [
        {
          "output_type": "stream",
          "name": "stdout",
          "text": [
            "     *  \n",
            "    * *  \n",
            "   * * *  \n",
            "  * * * *  \n",
            " * * * * *  \n"
          ]
        }
      ]
    },
    {
      "cell_type": "code",
      "source": [
        "for i in range(1, 6):\n",
        "  for j in range(1,6):\n",
        "    if(j<=5-i):\n",
        "      print(\" \", end=\" \")\n",
        "    else:\n",
        "      print(\"*\", end=\" \")\n",
        "  print('')"
      ],
      "metadata": {
        "colab": {
          "base_uri": "https://localhost:8080/"
        },
        "id": "uzs1liQlUKjn",
        "outputId": "cae6bf0b-42f8-422f-ccb8-4aecb0708246"
      },
      "execution_count": null,
      "outputs": [
        {
          "output_type": "stream",
          "name": "stdout",
          "text": [
            "        * \n",
            "      * * \n",
            "    * * * \n",
            "  * * * * \n",
            "* * * * * \n"
          ]
        }
      ]
    }
  ]
}