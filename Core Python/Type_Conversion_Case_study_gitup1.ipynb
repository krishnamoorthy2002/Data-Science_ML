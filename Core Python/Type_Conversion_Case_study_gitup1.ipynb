{
  "nbformat": 4,
  "nbformat_minor": 0,
  "metadata": {
    "colab": {
      "provenance": []
    },
    "kernelspec": {
      "name": "python3",
      "display_name": "Python 3"
    },
    "language_info": {
      "name": "python"
    }
  },
  "cells": [
    {
      "cell_type": "markdown",
      "source": [
        "**DATA STRUCTURES**\n",
        "\n",
        "Python data structures are essentially containers for different kinds of data.\n",
        "\n",
        "Python provides a variety of data structures that are used efficiently for storing and manipulating data. Some of the most frequently used data structures include:\n",
        "\n",
        "**Lists**: Lists are ordered collections that can store heterogeneous elements. They are commonly used for storing sequences of data, such as numerical values or strings. Lists are mutable, you can modify their elements after creation.\n",
        "\n",
        "**NumPy Arrays**: NumPy is a fundamental package for numerical computations in Python. It provides the ndarray (n-dimensional array) data structure, which allows efficient manipulation of arrays of homogeneous data types. NumPy arrays are particularly useful for mathematical and statistical operations.\n",
        "\n",
        "**Dictionaries**: Dictionaries are collections of key-value pairs. They are used for mapping unique keys to associated values. In data science, dictionaries can be used for tasks like storing metadata or creating lookup tables.\n",
        "\n",
        "**Sets:** Sets are unordered collections of unique elements. They are useful for tasks that involve working with distinct values, such as removing duplicates from a dataset.\n",
        "\n",
        "**Tuples**: Tuples are similar to lists, but they are immutable, meaning their elements cannot be changed after creation. They are often used to represent fixed collections of related data."
      ],
      "metadata": {
        "id": "BERvW2Z_JEYw"
      }
    },
    {
      "cell_type": "markdown",
      "source": [
        "**TYPE CONVERSION** **:**  It functions to directly convert one data type to another.\n",
        "\n",
        "When converting between different data structures, consider the specific properties and use cases of each structure. The choice of conversion depends on your intended use of the data.\n",
        "\n",
        "Python provides built-in functions to convert one data type to another. Here are the key conversion functions:\n",
        "\n",
        "int(): converts a value to an integer\n",
        "\n",
        "float(): converts a value to a float\n",
        "\n",
        "str(): converts a value to a string\n",
        "\n",
        "bool(): converts a value to a boolean"
      ],
      "metadata": {
        "id": "vgAvLFX2Nnts"
      }
    },
    {
      "cell_type": "markdown",
      "source": [
        "**Conversion of int () to float() , str() , bool()**"
      ],
      "metadata": {
        "id": "Ow3HPtiIQkDn"
      }
    },
    {
      "cell_type": "code",
      "source": [
        "a = 45              #int to float\n",
        "print(float(a))\n",
        "\n",
        "b = 125             #int to string\n",
        "print(str(b))\n",
        "\n",
        "c = 1               #int to bool\n",
        "print(bool(c))\n"
      ],
      "metadata": {
        "colab": {
          "base_uri": "https://localhost:8080/"
        },
        "id": "PKWo6IFNP-Yb",
        "outputId": "219b96ea-95c9-4a8d-f364-d0886ec46468"
      },
      "execution_count": null,
      "outputs": [
        {
          "output_type": "stream",
          "name": "stdout",
          "text": [
            "45.0\n",
            "125\n",
            "True\n"
          ]
        }
      ]
    },
    {
      "cell_type": "markdown",
      "source": [
        "*   For the conversion to float, the integer is converted to a floating-point number by adding a decimal point and zero fraction.\n",
        "*   For the conversion to str, the integer is converted to its string representation.\n",
        "*   For the conversion to bool, any non-zero integer value will be treated as True, while a value of 0 will be treated as False.\n",
        "\n",
        "\n",
        "\n"
      ],
      "metadata": {
        "id": "16kCSBmvStw0"
      }
    },
    {
      "cell_type": "markdown",
      "source": [
        "**Conversion of float() to int() , str() , bool()**"
      ],
      "metadata": {
        "id": "N6KooX4ORfKU"
      }
    },
    {
      "cell_type": "code",
      "source": [
        "d = 25.5          #float to int\n",
        "print(int(d))\n",
        "\n",
        "e = 12.6          #float to str\n",
        "print(str(e))\n",
        "\n",
        "f = 33.2          #float to bool\n",
        "print(bool(f))"
      ],
      "metadata": {
        "colab": {
          "base_uri": "https://localhost:8080/"
        },
        "id": "EvHx8HErRsQC",
        "outputId": "fc0f6425-9273-4e7e-e6ed-5c8e8ea61514"
      },
      "execution_count": null,
      "outputs": [
        {
          "output_type": "stream",
          "name": "stdout",
          "text": [
            "25\n",
            "12.6\n",
            "True\n"
          ]
        }
      ]
    },
    {
      "cell_type": "markdown",
      "source": [
        "*  For the conversion to int, the decimal part of the floating-point number is truncated, resulting in an integer value.\n",
        "\n",
        "*  For the conversion to str, the floating-point number is converted to its string representation.\n",
        "\n",
        "*   For the conversion to bool, any non-zero value (including non-zero floats) will be treated as True, while a value of 0.0 will be treated as False.\n",
        "\n",
        "\n",
        "\n",
        "\n"
      ],
      "metadata": {
        "id": "j2JibAeNScTA"
      }
    },
    {
      "cell_type": "markdown",
      "source": [
        "**Conversion of str() to int() , float() , bool()**\n"
      ],
      "metadata": {
        "id": "tuZkGFjMTnKs"
      }
    },
    {
      "cell_type": "code",
      "source": [
        "g = \"10\"          # str to int\n",
        "print(int(g))\n",
        "\n",
        "h = \"65\"          # str to float\n",
        "print(float(h))\n",
        "\n",
        "i = \"True\"        # str to bool\n",
        "print(bool(i))"
      ],
      "metadata": {
        "colab": {
          "base_uri": "https://localhost:8080/"
        },
        "id": "7y7zKeHKUJD2",
        "outputId": "c578771f-fae0-4ef0-d8b7-df3275e1a6c3"
      },
      "execution_count": null,
      "outputs": [
        {
          "output_type": "stream",
          "name": "stdout",
          "text": [
            "10\n",
            "65.0\n",
            "True\n"
          ]
        }
      ]
    },
    {
      "cell_type": "markdown",
      "source": [
        "\n",
        "*   For the conversion to int, the string representing an integer is converted to an actual integer.\n",
        "*   For the conversion to float, the string representing a floating-point number is converted to a floating-point number\n",
        "*   For the conversion to bool, the strings \"True\" and \"False\" are converted to their corresponding boolean values, while any non-empty string is considered True, and an empty string is considered False.\n",
        "\n",
        "\n",
        "\n"
      ],
      "metadata": {
        "id": "T1TU7AfXUcI5"
      }
    },
    {
      "cell_type": "markdown",
      "source": [
        "**Conversion of bool() to int() , float() , str()**"
      ],
      "metadata": {
        "id": "I_TrTRJsYtiU"
      }
    },
    {
      "cell_type": "code",
      "source": [
        "k = True          # bool to int\n",
        "print(int(k))\n",
        "\n",
        "l = True          # bool to float\n",
        "print(float(l))\n",
        "\n",
        "m = True          # bool to str\n",
        "print(str(m))\n"
      ],
      "metadata": {
        "colab": {
          "base_uri": "https://localhost:8080/"
        },
        "id": "9i1UN3EEY1HR",
        "outputId": "e121030b-6d45-4e39-c9f5-3d9d52fe4d93"
      },
      "execution_count": null,
      "outputs": [
        {
          "output_type": "stream",
          "name": "stdout",
          "text": [
            "1\n",
            "1.0\n",
            "True\n"
          ]
        }
      ]
    },
    {
      "cell_type": "markdown",
      "source": [
        "**List**\n",
        "\n",
        "*  A list is an ordered, mutable collection of elements.Syntax includes\n",
        "squarebrackets [ , ] with ‘,’ separated data.\n",
        "*  A list can be created using the list( ) function or simple assignment to [ .\n",
        "*  An empty list can be created by l = [ ].It is an ordered collection of data.\n",
        "*  Duplicate data entry is allowed in a List.Has integer based indexing that starts from ‘0’.\n",
        "\n"
      ],
      "metadata": {
        "id": "8xmWfxKWWJBY"
      }
    },
    {
      "cell_type": "markdown",
      "source": [
        "**Conversion of list() to numpy array() , dict() , tuple() , set()**"
      ],
      "metadata": {
        "id": "JjnH2EAKW_xo"
      }
    },
    {
      "cell_type": "code",
      "source": [
        "import numpy as np\n",
        "\n",
        "j = [1,2,3,4,5]       # list to Numpy array\n",
        "jj = np.array(j)\n",
        "print(jj)\n",
        "type(jj)"
      ],
      "metadata": {
        "colab": {
          "base_uri": "https://localhost:8080/"
        },
        "id": "RobnarakXQZe",
        "outputId": "8617b51a-42ea-4ece-e7d7-6b6d2973fdac"
      },
      "execution_count": null,
      "outputs": [
        {
          "output_type": "stream",
          "name": "stdout",
          "text": [
            "[1 2 3 4 5]\n"
          ]
        },
        {
          "output_type": "execute_result",
          "data": {
            "text/plain": [
              "numpy.ndarray"
            ]
          },
          "metadata": {},
          "execution_count": 46
        }
      ]
    },
    {
      "cell_type": "markdown",
      "source": [
        "*  The Python list [1, 2, 3, 4, 5] is converted to a NumPy array using the np.array() function.\n"
      ],
      "metadata": {
        "id": "eynGftHVaeWT"
      }
    },
    {
      "cell_type": "code",
      "source": [
        "n = ['a', 'b', 'c','d']     # list to dict\n",
        "print(dict.fromkeys(n,2))"
      ],
      "metadata": {
        "colab": {
          "base_uri": "https://localhost:8080/"
        },
        "id": "JJPqaZiPZ3DJ",
        "outputId": "0c687a89-5f62-4cc7-8212-61f6d9207154"
      },
      "execution_count": null,
      "outputs": [
        {
          "output_type": "stream",
          "name": "stdout",
          "text": [
            "{'a': 2, 'b': 2, 'c': 2, 'd': 2}\n"
          ]
        }
      ]
    },
    {
      "cell_type": "markdown",
      "source": [
        "*  You can convert a list to a dictionary where the list items become the dictionary keys. To do this, you need to provide values for the keys as well. The list ['a', 'b', 'c','d'] is converted to a dictionary where each list item becomes a dictionary key with an initial value of 0.\n",
        "\n",
        "\n",
        "*  The fromkeys() method returns a dictionary with the specified keys and the specified value.Syntax is dict.fromkeys(keys, value)\n",
        "\n"
      ],
      "metadata": {
        "id": "ueG7Y09ecJXx"
      }
    },
    {
      "cell_type": "code",
      "source": [
        "o = [1,2,3,4,5]             #list to tuple\n",
        "print(tuple(o))"
      ],
      "metadata": {
        "colab": {
          "base_uri": "https://localhost:8080/"
        },
        "id": "opefimEBcUDe",
        "outputId": "013bc892-cd34-4ce9-cdf8-d1ece00e3356"
      },
      "execution_count": null,
      "outputs": [
        {
          "output_type": "stream",
          "name": "stdout",
          "text": [
            "(1, 2, 3, 4, 5)\n"
          ]
        }
      ]
    },
    {
      "cell_type": "markdown",
      "source": [
        "*  the list [1, 2, 3, 4, 5] is converted to a tuple using the tuple() function.\n"
      ],
      "metadata": {
        "id": "Kp7G4V09cqQh"
      }
    },
    {
      "cell_type": "code",
      "source": [
        "p = [1,2,3,4,5]             # list to set\n",
        "print(set(p))"
      ],
      "metadata": {
        "colab": {
          "base_uri": "https://localhost:8080/"
        },
        "id": "or5Vh3cecrEM",
        "outputId": "1aeb021f-fab9-43b5-a25c-dd79e9628042"
      },
      "execution_count": null,
      "outputs": [
        {
          "output_type": "stream",
          "name": "stdout",
          "text": [
            "{1, 2, 3, 4, 5}\n"
          ]
        }
      ]
    },
    {
      "cell_type": "markdown",
      "source": [
        "*  To convert a list to a set, you can use the set() function. This will remove any duplicate elements and provide an unordered collection of unique elements. The list [1, 2, 2, 3, 3, 4, 5] is converted to a set using the set() function, resulting in a set of unique elements.\n",
        "\n"
      ],
      "metadata": {
        "id": "wKji5IDJdZTs"
      }
    },
    {
      "cell_type": "markdown",
      "source": [
        "**Tuple**\n",
        "\n",
        "*   A tuple is an ordered, immutable collection of elements.\n",
        "*   Syntax includes curved brackets ( , ) with ‘,’ separated data.\n",
        "*   An empty tuple can be created by t = ().It is also an ordered collection of data.\n",
        "*   Duplicate data entry is allowed in a Tuple.Being immutable, it cannot be added , deleted , sorted\n"
      ],
      "metadata": {
        "id": "f5c5VLH2dnqg"
      }
    },
    {
      "cell_type": "markdown",
      "source": [
        "**Conversion of Tuple() to numpy array() , dict() , list() , set()**"
      ],
      "metadata": {
        "id": "IWRuFb4fecpC"
      }
    },
    {
      "cell_type": "code",
      "source": [
        "q = (1,2,3,4,5)           # tuple to Numpy array\n",
        "qq = np.array(q)\n",
        "print(qq)\n",
        "type(qq)"
      ],
      "metadata": {
        "colab": {
          "base_uri": "https://localhost:8080/"
        },
        "id": "tUmP6eJEemGa",
        "outputId": "b077093c-1abb-4ff9-b211-9ed19b6d312b"
      },
      "execution_count": null,
      "outputs": [
        {
          "output_type": "stream",
          "name": "stdout",
          "text": [
            "[1 2 3 4 5]\n"
          ]
        },
        {
          "output_type": "execute_result",
          "data": {
            "text/plain": [
              "numpy.ndarray"
            ]
          },
          "metadata": {},
          "execution_count": 31
        }
      ]
    },
    {
      "cell_type": "markdown",
      "source": [
        "*  the Python tuple (1, 2, 3, 4, 5) is converted to a NumPy array using the np.array() function.\n"
      ],
      "metadata": {
        "id": "QUn_Cu22fGlq"
      }
    },
    {
      "cell_type": "code",
      "source": [
        "r = (('a',1),('b',2),('c',3))   # tuple to dict\n",
        "print(dict(r))"
      ],
      "metadata": {
        "colab": {
          "base_uri": "https://localhost:8080/"
        },
        "id": "Lvd3xuZofKza",
        "outputId": "ae7ce33f-20c8-401f-cf50-03bc75c83e8a"
      },
      "execution_count": null,
      "outputs": [
        {
          "output_type": "stream",
          "name": "stdout",
          "text": [
            "{'a': 1, 'b': 2, 'c': 3}\n"
          ]
        }
      ]
    },
    {
      "cell_type": "markdown",
      "source": [
        "*   To convert a tuple to a dictionary, you need to have key-value pairs within the tuple. You can then use these pairs to create a dictionary.the tuple (('a', 1), ('b', 2), ('c', 3)) is converted to a dictionary where each tuple's first element becomes a key, and the second element becomes its corresponding value.\n",
        "\n"
      ],
      "metadata": {
        "id": "rUzGZyKof0IY"
      }
    },
    {
      "cell_type": "code",
      "source": [
        "s = (1,2,3,4,5)      # tuple to list\n",
        "print(list(s))"
      ],
      "metadata": {
        "colab": {
          "base_uri": "https://localhost:8080/"
        },
        "id": "Yu59kPOwf_Lc",
        "outputId": "53e60720-13b4-4f38-ed4f-d6d26c11f07d"
      },
      "execution_count": null,
      "outputs": [
        {
          "output_type": "stream",
          "name": "stdout",
          "text": [
            "[1, 2, 3, 4, 5]\n"
          ]
        }
      ]
    },
    {
      "cell_type": "markdown",
      "source": [
        "*  the tuple (1, 2, 3, 4, 5) is converted to a list using the list() function.\n"
      ],
      "metadata": {
        "id": "o9SDB2NZgI8p"
      }
    },
    {
      "cell_type": "code",
      "source": [
        "t = (1,2,3,4,5)         # tuple to set\n",
        "print(set(t))"
      ],
      "metadata": {
        "colab": {
          "base_uri": "https://localhost:8080/"
        },
        "id": "rXTm7npBgOFP",
        "outputId": "af850cdd-204e-4802-abd0-fc9dfb584199"
      },
      "execution_count": null,
      "outputs": [
        {
          "output_type": "stream",
          "name": "stdout",
          "text": [
            "{1, 2, 3, 4, 5}\n"
          ]
        }
      ]
    },
    {
      "cell_type": "markdown",
      "source": [
        "*  the tuple (1, 2, 2, 3, 3, 4, 5) is converted to a set using the set() function, resulting in a set of unique elements.\n",
        "\n"
      ],
      "metadata": {
        "id": "EzTQblhegYbW"
      }
    },
    {
      "cell_type": "markdown",
      "source": [
        "**Set**\n",
        "\n",
        "*  A set is an unordered collection of unique elements.Syntax includes curly brackets { , } with ‘,’ separated data.\n",
        "*  A set dictionary can be created using the set() function.An empty set can be created by s = set().\n",
        "*  All elements are unique in a Set.\n",
        "*  Does NOT have an index based mechanism.\n",
        "\n",
        "\n"
      ],
      "metadata": {
        "id": "U97FkKzxglGI"
      }
    },
    {
      "cell_type": "markdown",
      "source": [
        "**Conversion of set() to numpy array() , dict() , list() , tuple()**"
      ],
      "metadata": {
        "id": "rcIF8ZK1hIU5"
      }
    },
    {
      "cell_type": "code",
      "source": [
        "import numpy as np\n",
        "\n",
        "ss = {1, 2, 3, 4, 5}              # set to list to Numpy array\n",
        "pp = np.array(list(ss))\n",
        "print(pp)\n",
        "type(pp)\n"
      ],
      "metadata": {
        "colab": {
          "base_uri": "https://localhost:8080/"
        },
        "id": "_1L5Z_FCiPJO",
        "outputId": "5997685c-9cab-4c0b-c050-03197d88c878"
      },
      "execution_count": null,
      "outputs": [
        {
          "output_type": "stream",
          "name": "stdout",
          "text": [
            "[1 2 3 4 5]\n"
          ]
        },
        {
          "output_type": "execute_result",
          "data": {
            "text/plain": [
              "numpy.ndarray"
            ]
          },
          "metadata": {},
          "execution_count": 52
        }
      ]
    },
    {
      "cell_type": "markdown",
      "source": [
        "* the Python set {1, 2, 3, 4, 5} is first converted to a list using list(python_set) and then to a NumPy array using the np.array() function.\n",
        "*  Numpy expects the argument to be a list, it doesn't understand the set type so it creates an object array\n",
        "\n",
        "\n",
        "\n",
        "\n"
      ],
      "metadata": {
        "id": "aSFgiy6_ix9k"
      }
    },
    {
      "cell_type": "code",
      "source": [
        "rr = {('a',1),('b',2),('c',3)}        # set to dict\n",
        "print(dict(rr))"
      ],
      "metadata": {
        "colab": {
          "base_uri": "https://localhost:8080/"
        },
        "id": "sfbI4P4ajRUg",
        "outputId": "891f72e9-5227-4687-ea85-9b278c74d08f"
      },
      "execution_count": null,
      "outputs": [
        {
          "output_type": "stream",
          "name": "stdout",
          "text": [
            "{'b': 2, 'c': 3, 'a': 1}\n"
          ]
        }
      ]
    },
    {
      "cell_type": "markdown",
      "source": [
        "* the set {('a', 1), ('b', 2), ('c', 3)} is converted to a dictionary where each set element becomes a key-value pair.\n"
      ],
      "metadata": {
        "id": "7PO-Bitojt0d"
      }
    },
    {
      "cell_type": "code",
      "source": [
        "u = {1,2,3,4,5}               #set to list\n",
        "print(list(u))"
      ],
      "metadata": {
        "colab": {
          "base_uri": "https://localhost:8080/"
        },
        "id": "MJ7BTtKWkufp",
        "outputId": "599e9310-c9e9-4240-d059-b55998a52471"
      },
      "execution_count": null,
      "outputs": [
        {
          "output_type": "stream",
          "name": "stdout",
          "text": [
            "[1, 2, 3, 4, 5]\n"
          ]
        }
      ]
    },
    {
      "cell_type": "markdown",
      "source": [
        "*  the set {1, 2, 3, 4, 5} is converted to a list using the list() function.\n"
      ],
      "metadata": {
        "id": "1o6iKICgnTw3"
      }
    },
    {
      "cell_type": "code",
      "source": [
        "uu = {1,2,3,4,5}            #set to tuple\n",
        "print(tuple(uu))"
      ],
      "metadata": {
        "colab": {
          "base_uri": "https://localhost:8080/"
        },
        "id": "cVnxB-19lSvk",
        "outputId": "599dae1c-d2c5-459d-e114-83be014ac765"
      },
      "execution_count": null,
      "outputs": [
        {
          "output_type": "stream",
          "name": "stdout",
          "text": [
            "(1, 2, 3, 4, 5)\n"
          ]
        }
      ]
    },
    {
      "cell_type": "markdown",
      "source": [
        "*   the set {1, 2, 3, 4, 5} is converted to a tuple using the tuple() function.\n",
        "\n"
      ],
      "metadata": {
        "id": "eBvb7w86nXlK"
      }
    },
    {
      "cell_type": "markdown",
      "source": [
        "**Dictionary**\n",
        "\n",
        "\n",
        "*   A dictionary is an unordered collection of key-value pairs.\n",
        "*   Syntax includes curly brackets { , } with ‘,’ separated key-value data.A dictionary can be created using the dict() function.\n",
        "*  An empty dictionary can be created by {}.\n",
        "*  Keys are unique, but two different keys CAN have the same value.\n",
        "\n"
      ],
      "metadata": {
        "id": "BTw3WpY3ndQT"
      }
    },
    {
      "cell_type": "markdown",
      "source": [
        "**Conversion of dict() to numpy array() , set() , list() , tuple()**"
      ],
      "metadata": {
        "id": "Jgw0KEDUwlOu"
      }
    },
    {
      "cell_type": "code",
      "source": [
        "x = {'a': 1, 'b': 2, 'c': 3}                    # dict to Numpy array\n",
        "arr = np.array(list(x.items()))\n",
        "print(arr)\n",
        "type(arr)"
      ],
      "metadata": {
        "colab": {
          "base_uri": "https://localhost:8080/"
        },
        "id": "uLhsPRuCz8I2",
        "outputId": "768524de-4cac-426a-de85-b19f92b50134"
      },
      "execution_count": null,
      "outputs": [
        {
          "output_type": "stream",
          "name": "stdout",
          "text": [
            "[['a' '1']\n",
            " ['b' '2']\n",
            " ['c' '3']]\n"
          ]
        },
        {
          "output_type": "execute_result",
          "data": {
            "text/plain": [
              "numpy.ndarray"
            ]
          },
          "metadata": {},
          "execution_count": 59
        }
      ]
    },
    {
      "cell_type": "markdown",
      "source": [
        "*  The dict.items() method in Python is used to retrieve the key-value pairs from a dictionary as a list of tuples. Each tuple in the list represents a key-value pair, where the first element of the tuple is the key, and the second element is the corresponding value.\n",
        "\n"
      ],
      "metadata": {
        "id": "jxM_Oxw43bFW"
      }
    },
    {
      "cell_type": "code",
      "source": [
        "y = {'a': 1, 'b': 2, 'c': 3}                    # dict to Numpy array\n",
        "y_arr = np.array(list(y.values()))\n",
        "print(y_arr)\n",
        "type(y_arr)\n"
      ],
      "metadata": {
        "colab": {
          "base_uri": "https://localhost:8080/"
        },
        "id": "VYmPF1yH2fpx",
        "outputId": "e363661d-61d4-4455-83c3-18d18734a8b3"
      },
      "execution_count": null,
      "outputs": [
        {
          "output_type": "stream",
          "name": "stdout",
          "text": [
            "[1 2 3]\n"
          ]
        },
        {
          "output_type": "execute_result",
          "data": {
            "text/plain": [
              "numpy.ndarray"
            ]
          },
          "metadata": {},
          "execution_count": 61
        }
      ]
    },
    {
      "cell_type": "markdown",
      "source": [
        "*  To convert a dictionary to a NumPy array, you can extract the values from the dictionary using the .values() method and then convert them to a NumPy array using the numpy.array() function.\n"
      ],
      "metadata": {
        "id": "-1ruB0_328cJ"
      }
    },
    {
      "cell_type": "code",
      "source": [
        "z = {'a': 1, 'b': 2, 'c': 3}                    # dict to set\n",
        "\n",
        "z1 = set(z.keys())  # Set of keys\n",
        "z2 = set(z.values())  # Set of values\n",
        "z3 = set(z.items())    # Set of key-value pairs\n",
        "\n",
        "print(z1)\n",
        "print(z2)\n",
        "print(z3)"
      ],
      "metadata": {
        "colab": {
          "base_uri": "https://localhost:8080/"
        },
        "id": "Inssy4Zn3t9V",
        "outputId": "83e824d0-2935-4996-deb9-d26a8a045a4b"
      },
      "execution_count": null,
      "outputs": [
        {
          "output_type": "stream",
          "name": "stdout",
          "text": [
            "{'a', 'c', 'b'} <class 'set'>\n",
            "{1, 2, 3}\n",
            "{('b', 2), ('c', 3), ('a', 1)}\n"
          ]
        }
      ]
    },
    {
      "cell_type": "markdown",
      "source": [
        "* converting a dictionary directly to a set will only include the keys of the dictionary. If you want to include the values or key-value pairs in the set, we need to specify which part of the dictionary you want to include.\n",
        "* different sets are created from the dictionary's keys, values, and items.\n",
        "\n"
      ],
      "metadata": {
        "id": "Tv-AE5pZ4ePa"
      }
    },
    {
      "cell_type": "code",
      "source": [
        "l1 = {'a': 1, 'b': 2, 'c': 3}                       # dict to list\n",
        "\n",
        "l2= list(l1.keys())        # List of keys\n",
        "l3= list(l1.values())  # List of values\n",
        "l4 = list(l1.items())    # List of key-value pairs\n",
        "\n",
        "print(l2)\n",
        "print(l3)\n",
        "print(l4)"
      ],
      "metadata": {
        "colab": {
          "base_uri": "https://localhost:8080/"
        },
        "id": "-uIVKO1W40Gl",
        "outputId": "698a0c20-866b-4ef2-8301-9c501f01d413"
      },
      "execution_count": null,
      "outputs": [
        {
          "output_type": "stream",
          "name": "stdout",
          "text": [
            "['a', 'b', 'c']\n",
            "[1, 2, 3]\n",
            "[('a', 1), ('b', 2), ('c', 3)]\n"
          ]
        }
      ]
    },
    {
      "cell_type": "markdown",
      "source": [
        "* Converting a dictionary to a list by default includes the keys. If you want to include the values or key-value pairs in the list, We can use the .values() or .items() methods.\n",
        "* different lists are created from the dictionary's keys, values, and items.\n",
        "\n"
      ],
      "metadata": {
        "id": "Fe2H9IT95pdi"
      }
    },
    {
      "cell_type": "code",
      "source": [
        "y1= {'a': 1, 'b': 2, 'c': 3}                        # dict to tuple\n",
        "\n",
        "y2 = tuple(y1)          # Tuple of keys\n",
        "y3 = tuple(y1.values())    # Tuple of values\n",
        "y4 = tuple(y1.items())      # Tuple of key-value pairs\n",
        "\n",
        "print(y2)\n",
        "print(y3)\n",
        "print(y4)\n"
      ],
      "metadata": {
        "colab": {
          "base_uri": "https://localhost:8080/"
        },
        "id": "h0Fl6UKu5yxO",
        "outputId": "f8ca5a40-533e-4e06-96a1-74c743e2dcc7"
      },
      "execution_count": null,
      "outputs": [
        {
          "output_type": "stream",
          "name": "stdout",
          "text": [
            "('a', 'b', 'c')\n",
            "(1, 2, 3)\n",
            "(('a', 1), ('b', 2), ('c', 3))\n"
          ]
        }
      ]
    },
    {
      "cell_type": "markdown",
      "source": [
        "* Similar to converting to a list, converting a dictionary to a tuple includes the keys by default. We can use the .values() or .items() methods to include the values or key-value pairs in the tuple.\n",
        "\n",
        "* different tuples are created from the dictionary's keys, values, and items.\n",
        "\n"
      ],
      "metadata": {
        "id": "adGo1q096PPb"
      }
    },
    {
      "cell_type": "markdown",
      "source": [
        "**Numpy array**\n",
        "\n",
        "\n",
        "*  The most important feature is the N-dimensional array object is called ndarray. It describes the collection of homogeneous elements that uses zero-based indexing. All the elements of the ndarray have equal size of the memory block. Each element in ndarray is the object of a data type object (called dtype).\n",
        "\n",
        "* NumPy is used to work with arrays. The array object in NumPy is called ndarray. We can create a NumPy ndarray object by using the array() function.\n",
        "\n",
        "* To create an ndarray, we can pass a list, tuple or any array-like object into the array() method, and it will be converted into an ndarray\n",
        "\n"
      ],
      "metadata": {
        "id": "T67XZ_xJ65Se"
      }
    },
    {
      "cell_type": "markdown",
      "source": [
        "**Conversion of numpy array() to dict() , set() , list() , tuple()**"
      ],
      "metadata": {
        "id": "cCY1ocBl8TIK"
      }
    },
    {
      "cell_type": "code",
      "source": [
        "d_arr=np.array([1,2,3,4])       # Numpy array to list\n",
        "d1 = list(d_arr)\n",
        "print(d1 , type(d1))"
      ],
      "metadata": {
        "colab": {
          "base_uri": "https://localhost:8080/"
        },
        "id": "PE_-57ZO8cwk",
        "outputId": "86707657-f23e-4e5a-fc40-3ea23537b3fb"
      },
      "execution_count": null,
      "outputs": [
        {
          "output_type": "stream",
          "name": "stdout",
          "text": [
            "[1, 2, 3, 4] <class 'list'>\n"
          ]
        }
      ]
    },
    {
      "cell_type": "markdown",
      "source": [
        "* the NumPy array [1, 2, 3 , 4] is directly converted to a Python list\n"
      ],
      "metadata": {
        "id": "-9AP5o2N-LZ_"
      }
    },
    {
      "cell_type": "code",
      "source": [
        "x_arr=np.array([1,2,3,4])       # Numpy array to tuple\n",
        "f1 = tuple(x_arr)\n",
        "print(f1 , type(f1))"
      ],
      "metadata": {
        "colab": {
          "base_uri": "https://localhost:8080/"
        },
        "id": "ummuHpl8-OhB",
        "outputId": "6c0d193b-8020-490a-8121-ef4461c4299a"
      },
      "execution_count": null,
      "outputs": [
        {
          "output_type": "stream",
          "name": "stdout",
          "text": [
            "(1, 2, 3, 4) <class 'tuple'>\n"
          ]
        }
      ]
    },
    {
      "cell_type": "markdown",
      "source": [
        "* the NumPy array [1, 2, 3, 4] is directly converted to a tuple using the tuple() function.\n",
        "\n"
      ],
      "metadata": {
        "id": "cITY9NKM-eW3"
      }
    },
    {
      "cell_type": "code",
      "source": [
        "q_arr = [1,2,2,4,5,4]           # Numpy array to set\n",
        "w1 = set(q_arr)\n",
        "print(w1, type(w1))"
      ],
      "metadata": {
        "colab": {
          "base_uri": "https://localhost:8080/"
        },
        "id": "-bup3bjb-p0c",
        "outputId": "e032cea3-dcd0-4b9b-e6f3-5c63051ad65a"
      },
      "execution_count": null,
      "outputs": [
        {
          "output_type": "stream",
          "name": "stdout",
          "text": [
            "{1, 2, 4, 5} <class 'set'>\n"
          ]
        }
      ]
    },
    {
      "cell_type": "markdown",
      "source": [
        "* the NumPy array [1, 2, 2, 4, 5, 4] is converted to a set containing only the unique values.\n",
        "\n"
      ],
      "metadata": {
        "id": "ndkWBnsI--_o"
      }
    },
    {
      "cell_type": "code",
      "source": [
        "# Example NumPy array\n",
        "m_arr= np.array([10, 20, 30, 40, 50])           #Numpy array to dict\n",
        "\n",
        "# Generating keys using enumerate\n",
        "keys = ['a', 'b', 'c', 'd', 'e']\n",
        "\n",
        "# Creating the dictionary\n",
        "m_dict = dict(zip(keys, m_arr))\n",
        "\n",
        "print(m_dict)"
      ],
      "metadata": {
        "colab": {
          "base_uri": "https://localhost:8080/"
        },
        "id": "4vy4esVO_KO8",
        "outputId": "7f655e93-4056-438f-a854-a4f589c32d95"
      },
      "execution_count": null,
      "outputs": [
        {
          "output_type": "stream",
          "name": "stdout",
          "text": [
            "{'a': 10, 'b': 20, 'c': 30, 'd': 40, 'e': 50}\n"
          ]
        }
      ]
    },
    {
      "cell_type": "markdown",
      "source": [
        "* We define the NumPy array named m_arr.\n",
        "* We create a list of keys (keys) that we want to associate with each element of the array. Using the zip() function, we combine the keys list and the m_arr to create pairs of keys and values.\n",
        "* We convert these pairs into a dictionary using the dict() function.\n",
        "The resulting m_dict contains the key-value pairs where keys are taken from the keys list, and values are the elements of the m_arr.\n",
        "\n"
      ],
      "metadata": {
        "id": "Eb33rWVo__0d"
      }
    },
    {
      "cell_type": "markdown",
      "source": [
        "*   Here in this case we can use enumerate() or zip() function\n",
        "*   The enumerate() function provides both the index and value of each element in the array.\n",
        "*  the zip() function is used to aggregate, or combine, multiple iterables\n",
        "\n",
        "\n",
        "\n"
      ],
      "metadata": {
        "id": "RAU-V5wcCKzN"
      }
    }
  ]
}